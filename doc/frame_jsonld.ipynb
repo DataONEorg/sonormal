{
 "cells": [
  {
   "cell_type": "code",
   "execution_count": 1,
   "metadata": {
    "collapsed": true
   },
   "outputs": [
    {
     "name": "stderr",
     "output_type": "stream",
     "text": [
      "DEBUG:sonormal:DOC LOADER URL = https://earthref.org/MagIC/17099\n",
      "DEBUG:sonormal:ENTER: loader\n",
      "DEBUG:sonormal:HEADER = {'Accept': 'application/ld+json;q=1.0, applcation/json;q=0.9, text/html;q=0.8, application/xml+xhtml;q=0.7'}\n",
      "WARNING:sonormal:No JSON-LD in plain source https://earthref.org/MagIC/17099\n",
      "DEBUG:sonormal:Loading and rendering https://earthref.org/MagIC/17099\n",
      "DEBUG:sonormal:JLD position: 418\n",
      "DEBUG:sonormal:Exit downloadJsonRendered\n"
     ]
    }
   ],
   "source": [
    "import logging\n",
    "import clipboard\n",
    "import json\n",
    "import sonormal.getjsonld\n",
    "import sonormal.normalize\n",
    "\n",
    "sonormal.installDocumentLoader()\n",
    "\n",
    "disable_logs = [\n",
    "    'urllib3',\n",
    "    'websockets',\n",
    "    'pyppeteer'\n",
    "]\n",
    "\n",
    "logging.basicConfig(level=logging.DEBUG)\n",
    "for log_name, log_obj in logging.Logger.manager.loggerDict.items():\n",
    "    for test in disable_logs:\n",
    "        if log_name.startswith(test):\n",
    "            log_obj.disabled = True\n",
    "\n",
    "url = \"https://datadavev.github.io/examples/jsonld/ex01.html\"\n",
    "url = \"https://earthref.org/MagIC/17099\"\n",
    "\n",
    "jsonld, response = await sonormal.getjsonld.downloadJsonAsync(url)\n",
    "\n",
    "normalized = sonormal.normalize.normalizeJsonld(jsonld)\n",
    "\n",
    "#print()\n",
    "\n",
    "clipboard.copy(json.dumps(normalized, indent=2))"
   ]
  },
  {
   "cell_type": "code",
   "execution_count": 2,
   "outputs": [
    {
     "name": "stderr",
     "output_type": "stream",
     "text": [
      "DEBUG:sonormal:Framing\n",
      "DEBUG:sonormal:DOC LOADER URL = https://schema.org/\n",
      "DEBUG:sonormal:ENTER: loader\n",
      "DEBUG:sonormal:HEADER = {'Accept': 'application/ld+json;profile=http://www.w3.org/ns/json-ld#context, application/ld+json, application/json;q=0.5, text/html;q=0.8, application/xhtml+xml;q=0.8'}\n",
      "DEBUG:sonormal:ENTER: loader\n",
      "DEBUG:sonormal:HEADER = {'Accept': 'application/ld+json;profile=http://www.w3.org/ns/json-ld#context, application/ld+json, application/json;q=0.5, text/html;q=0.8, application/xhtml+xml;q=0.8'}\n",
      "DEBUG:sonormal:DOC LOADER URL = https://schema.org/\n",
      "DEBUG:sonormal:From cache\n"
     ]
    },
    {
     "name": "stdout",
     "output_type": "stream",
     "text": [
      "[]\n"
     ]
    }
   ],
   "source": [
    "sonormal.FORCE_SO_VERSION = False\n",
    "\n",
    "framed = sonormal.normalize.frameSODataset(normalized)\n",
    "\n",
    "print(json.dumps(framed, indent=2))"
   ],
   "metadata": {
    "collapsed": false,
    "pycharm": {
     "name": "#%%\n"
    }
   }
  }
 ],
 "metadata": {
  "kernelspec": {
   "display_name": "Python 3",
   "language": "python",
   "name": "python3"
  },
  "language_info": {
   "codemirror_mode": {
    "name": "ipython",
    "version": 2
   },
   "file_extension": ".py",
   "mimetype": "text/x-python",
   "name": "python",
   "nbconvert_exporter": "python",
   "pygments_lexer": "ipython2",
   "version": "2.7.6"
  }
 },
 "nbformat": 4,
 "nbformat_minor": 0
}